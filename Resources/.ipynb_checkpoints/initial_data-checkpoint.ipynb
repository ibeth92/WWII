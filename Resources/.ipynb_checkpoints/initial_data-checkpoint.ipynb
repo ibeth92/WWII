{
 "cells": [
  {
   "cell_type": "code",
   "execution_count": 1,
   "metadata": {},
   "outputs": [],
   "source": [
    "# Import Dependancies\n",
    "import pandas as pd\n",
    "import os\n",
    "from sqlalchemy import create_engine\n",
    "from keys import password\n",
    "import time\n",
    "import datetime"
   ]
  },
  {
   "cell_type": "code",
   "execution_count": null,
   "metadata": {},
   "outputs": [],
   "source": [
    "weather_csv = 'data_sets/Summary of Weather.csv'\n",
    "wwii_data_thor = 'data_sets/thor_wwii_data_clean.csv'\n",
    "wwii_data_aircraft = 'data_sets/thor_wwii_aircraft_gloss.csv'\n",
    "wwii_data_weapons = 'data_sets/thor_wwii_weapon_gloss.csv'"
   ]
  },
  {
   "cell_type": "code",
   "execution_count": null,
   "metadata": {},
   "outputs": [],
   "source": [
    "weather_df = pd.read_csv(weather_csv)\n",
    "weather_df.head()\n",
    "weather_df"
   ]
  },
  {
   "cell_type": "code",
   "execution_count": null,
   "metadata": {},
   "outputs": [],
   "source": [
    "thor_df = pd.read_csv(wwii_data_thor)\n",
    "thor_df.head()"
   ]
  },
  {
   "cell_type": "code",
   "execution_count": 2,
   "metadata": {},
   "outputs": [
    {
     "name": "stdout",
     "output_type": "stream",
     "text": [
      "          STA        Date Precip  WindGustSpd    MaxTemp    MinTemp  \\\n",
      "0       10001    1942-7-1  1.016          NaN  25.555556  22.222222   \n",
      "1       10001    1942-7-2      0          NaN  28.888889  21.666667   \n",
      "2       10001    1942-7-3   2.54          NaN  26.111111  22.222222   \n",
      "3       10001    1942-7-4   2.54          NaN  26.666667  22.222222   \n",
      "4       10001    1942-7-5      0          NaN  26.666667  21.666667   \n",
      "...       ...         ...    ...          ...        ...        ...   \n",
      "119035  82506  1945-12-27      0          NaN  28.333333  18.333333   \n",
      "119036  82506  1945-12-28  9.906          NaN  29.444444  18.333333   \n",
      "119037  82506  1945-12-29      0          NaN  28.333333  18.333333   \n",
      "119038  82506  1945-12-30      0          NaN  28.333333  18.333333   \n",
      "119039  82506  1945-12-31      0          NaN  29.444444  17.222222   \n",
      "\n",
      "         MeanTemp Snowfall PoorWeather  YR  ...  FB  FTI ITH  PGT  TSHDSBRSGF  \\\n",
      "0       23.888889        0         NaN  42  ... NaN  NaN NaN  NaN         NaN   \n",
      "1       25.555556        0         NaN  42  ... NaN  NaN NaN  NaN         NaN   \n",
      "2       24.444444        0         NaN  42  ... NaN  NaN NaN  NaN         NaN   \n",
      "3       24.444444        0         NaN  42  ... NaN  NaN NaN  NaN         NaN   \n",
      "4       24.444444        0         NaN  42  ... NaN  NaN NaN  NaN         NaN   \n",
      "...           ...      ...         ...  ..  ...  ..  ...  ..  ...         ...   \n",
      "119035  23.333333        0         NaN  45  ... NaN  NaN NaN  NaN         NaN   \n",
      "119036  23.888889        0           1  45  ... NaN  NaN NaN  NaN           1   \n",
      "119037  23.333333        0           1  45  ... NaN  NaN NaN  NaN           1   \n",
      "119038  23.333333        0         NaN  45  ... NaN  NaN NaN  NaN         NaN   \n",
      "119039  23.333333        0         NaN  45  ... NaN  NaN NaN  NaN         NaN   \n",
      "\n",
      "        SD3  RHX  RHN RVG  WTE  \n",
      "0       NaN  NaN  NaN NaN  NaN  \n",
      "1       NaN  NaN  NaN NaN  NaN  \n",
      "2       NaN  NaN  NaN NaN  NaN  \n",
      "3       NaN  NaN  NaN NaN  NaN  \n",
      "4       NaN  NaN  NaN NaN  NaN  \n",
      "...     ...  ...  ...  ..  ...  \n",
      "119035  NaN  NaN  NaN NaN  NaN  \n",
      "119036  NaN  NaN  NaN NaN  NaN  \n",
      "119037  NaN  NaN  NaN NaN  NaN  \n",
      "119038  NaN  NaN  NaN NaN  NaN  \n",
      "119039  NaN  NaN  NaN NaN  NaN  \n",
      "\n",
      "[119040 rows x 31 columns]\n"
     ]
    }
   ],
   "source": [
    "thor_df.columns"
   ]
  },
  {
   "cell_type": "code",
   "execution_count": 12,
   "metadata": {},
   "outputs": [
    {
     "name": "stdout",
     "output_type": "stream",
     "text": [
      "          STA        Date Precip    MaxTemp    MinTemp   MeanTemp Snowfall  \\\n",
      "0       10001    1942-7-1  1.016  25.555556  22.222222  23.888889        0   \n",
      "1       10001    1942-7-2      0  28.888889  21.666667  25.555556        0   \n",
      "2       10001    1942-7-3   2.54  26.111111  22.222222  24.444444        0   \n",
      "3       10001    1942-7-4   2.54  26.666667  22.222222  24.444444        0   \n",
      "4       10001    1942-7-5      0  26.666667  21.666667  24.444444        0   \n",
      "...       ...         ...    ...        ...        ...        ...      ...   \n",
      "119035  82506  1945-12-27      0  28.333333  18.333333  23.333333        0   \n",
      "119036  82506  1945-12-28  9.906  29.444444  18.333333  23.888889        0   \n",
      "119037  82506  1945-12-29      0  28.333333  18.333333  23.333333        0   \n",
      "119038  82506  1945-12-30      0  28.333333  18.333333  23.333333        0   \n",
      "119039  82506  1945-12-31      0  29.444444  17.222222  23.333333        0   \n",
      "\n",
      "       PoorWeather  YR  MO  ...  FB FTI  ITH  PGT  TSHDSBRSGF  SD3  RHX RHN  \\\n",
      "0              NaN  42   7  ... NaN NaN  NaN  NaN         NaN  NaN  NaN NaN   \n",
      "1              NaN  42   7  ... NaN NaN  NaN  NaN         NaN  NaN  NaN NaN   \n",
      "2              NaN  42   7  ... NaN NaN  NaN  NaN         NaN  NaN  NaN NaN   \n",
      "3              NaN  42   7  ... NaN NaN  NaN  NaN         NaN  NaN  NaN NaN   \n",
      "4              NaN  42   7  ... NaN NaN  NaN  NaN         NaN  NaN  NaN NaN   \n",
      "...            ...  ..  ..  ...  ..  ..  ...  ...         ...  ...  ...  ..   \n",
      "119035         NaN  45  12  ... NaN NaN  NaN  NaN         NaN  NaN  NaN NaN   \n",
      "119036           1  45  12  ... NaN NaN  NaN  NaN           1  NaN  NaN NaN   \n",
      "119037           1  45  12  ... NaN NaN  NaN  NaN           1  NaN  NaN NaN   \n",
      "119038         NaN  45  12  ... NaN NaN  NaN  NaN         NaN  NaN  NaN NaN   \n",
      "119039         NaN  45  12  ... NaN NaN  NaN  NaN         NaN  NaN  NaN NaN   \n",
      "\n",
      "        RVG  WTE  \n",
      "0       NaN  NaN  \n",
      "1       NaN  NaN  \n",
      "2       NaN  NaN  \n",
      "3       NaN  NaN  \n",
      "4       NaN  NaN  \n",
      "...     ...  ...  \n",
      "119035  NaN  NaN  \n",
      "119036  NaN  NaN  \n",
      "119037  NaN  NaN  \n",
      "119038  NaN  NaN  \n",
      "119039  NaN  NaN  \n",
      "\n",
      "[119040 rows x 30 columns]\n"
     ]
    }
   ],
   "source": [
    "thor_df2 = thor_df[['latitude','longitude','msndate']].copy()"
   ]
  },
  {
   "cell_type": "code",
   "execution_count": 14,
   "metadata": {},
   "outputs": [
    {
     "name": "stdout",
     "output_type": "stream",
     "text": [
      "          STA        Date Precip   MAX   MIN\n",
      "0       10001    1942-7-1  1.016  78.0  72.0\n",
      "1       10001    1942-7-2      0  84.0  71.0\n",
      "2       10001    1942-7-3   2.54  79.0  72.0\n",
      "3       10001    1942-7-4   2.54  80.0  72.0\n",
      "4       10001    1942-7-5      0  80.0  71.0\n",
      "...       ...         ...    ...   ...   ...\n",
      "119035  82506  1945-12-27      0  83.0  65.0\n",
      "119036  82506  1945-12-28  9.906  85.0  65.0\n",
      "119037  82506  1945-12-29      0  83.0  65.0\n",
      "119038  82506  1945-12-30      0  83.0  65.0\n",
      "119039  82506  1945-12-31      0  85.0  63.0\n",
      "\n",
      "[119040 rows x 5 columns]\n"
     ]
    }
   ],
   "source": [
    "weather_df2 = weather_df[['Date', 'MaxTemp', 'MinTemp','MAX', 'MIN']].copy()"
   ]
  },
  {
   "cell_type": "code",
   "execution_count": null,
   "metadata": {},
   "outputs": [],
   "source": [
    "weather_date_series = weather_df2['Date'] = pd.to_datetime(weather_df2['Date'])\n",
    "weather_df2"
   ]
  },
  {
   "cell_type": "code",
   "execution_count": null,
   "metadata": {},
   "outputs": [],
   "source": [
    "thor_df2['msndate'] = pd.to_datetime(thor_df2['msndate'])\n",
    "thor_df2"
   ]
  },
  {
   "cell_type": "code",
   "execution_count": null,
   "metadata": {},
   "outputs": [],
   "source": [
    "weather_df2 = weather_df2.rename(columns= {\"Date\":'dates','MAX':'maxtempf','MIN':'mintempf', 'MaxTemp': 'maxtempc', 'MinTemp': 'mintempc'})"
   ]
  },
  {
   "cell_type": "code",
   "execution_count": null,
   "metadata": {},
   "outputs": [],
   "source": [
    "weather_df2"
   ]
  }
 ],
 "metadata": {
  "kernelspec": {
   "display_name": "Python 3",
   "language": "python",
   "name": "python3"
  },
  "language_info": {
   "codemirror_mode": {
    "name": "ipython",
    "version": 3
   },
   "file_extension": ".py",
   "mimetype": "text/x-python",
   "name": "python",
   "nbconvert_exporter": "python",
   "pygments_lexer": "ipython3",
   "version": "3.7.6"
  }
 },
 "nbformat": 4,
 "nbformat_minor": 4
}
