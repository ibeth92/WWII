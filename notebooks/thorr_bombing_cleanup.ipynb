{
 "cells": [
  {
   "cell_type": "code",
   "execution_count": 3,
   "metadata": {},
   "outputs": [],
   "source": [
    "import pandas as pd\n",
    "import os\n",
    "from sqlalchemy import create_engine\n",
    "import time\n",
    "import datetime"
   ]
  },
  {
   "cell_type": "code",
   "execution_count": 4,
   "metadata": {},
   "outputs": [],
   "source": [
    "thor_data = '../Resources/THOR_WWII_DATA_CLEANED.csv'"
   ]
  },
  {
   "cell_type": "code",
   "execution_count": 5,
   "metadata": {},
   "outputs": [
    {
     "output_type": "execute_result",
     "data": {
      "text/plain": [
       "Index(['WWII_ID', 'MSNDATE', 'THEATER', 'NAF', 'COUNTRY_FLYING_MISSION',\n",
       "       'TGT_COUNTRY', 'TGT_LOCATION', 'LATITUDE', 'LONGITUDE', 'AIRCRAFT_NAME',\n",
       "       'MAX', 'MIN'],\n",
       "      dtype='object')"
      ]
     },
     "metadata": {},
     "execution_count": 5
    }
   ],
   "source": [
    "thor_df = pd.read_csv(thor_data, encoding='latin-1')\n",
    "thor_df.columns"
   ]
  },
  {
   "cell_type": "code",
   "execution_count": 6,
   "metadata": {},
   "outputs": [],
   "source": [
    "thor_df = thor_df[['MSNDATE', 'THEATER', 'NAF', 'COUNTRY_FLYING_MISSION',\n",
    "       'TGT_COUNTRY', 'TGT_LOCATION', 'LATITUDE', 'LONGITUDE', 'AIRCRAFT_NAME',\n",
    "       'MAX', 'MIN']].copy()\n",
    "thor_df\n",
    "thor_df = thor_df.sort_values(by='MSNDATE').copy()"
   ]
  },
  {
   "cell_type": "code",
   "execution_count": 7,
   "metadata": {},
   "outputs": [
    {
     "output_type": "execute_result",
     "data": {
      "text/plain": [
       "         MSNDATE THEATER    NAF COUNTRY_FLYING_MISSION       TGT_COUNTRY  \\\n",
       "ID                                                                         \n",
       "10706     1/1/41     ETO    RAF          GREAT BRITAIN           GERMANY   \n",
       "10802     1/1/41     ETO    RAF          GREAT BRITAIN           GERMANY   \n",
       "10803     1/1/41     ETO    RAF          GREAT BRITAIN           GERMANY   \n",
       "10804     1/1/41     ETO    RAF          GREAT BRITAIN           GERMANY   \n",
       "10805     1/1/41     ETO    RAF          GREAT BRITAIN           GERMANY   \n",
       "...          ...     ...    ...                    ...               ...   \n",
       "113587  10/12/44     PTO   5 AF                    USA   CELEBES ISLANDS   \n",
       "113934  10/12/44     PTO   5 AF                    USA   CELEBES ISLANDS   \n",
       "113935  10/12/44     PTO   7 AF                    USA  MARIANAS ISLANDS   \n",
       "113936  10/12/44     PTO  13 AF                    USA   CELEBES ISLANDS   \n",
       "113931  10/12/44     PTO   5 AF                    USA   CELEBES ISLANDS   \n",
       "\n",
       "        TGT_LOCATION   LATITUDE   LONGITUDE AIRCRAFT_NAME   MAX   MIN  \n",
       "ID                                                                     \n",
       "10706           KIEL  54.330000   10.150000       HAMPDEN  88.0  78.0  \n",
       "10802         BREMEN  53.080000    8.720000       WHITLEY  86.0  74.0  \n",
       "10803         BREMEN  53.080000    8.720000       WHITLEY  85.0  72.0  \n",
       "10804         BREMEN  53.080000    8.720000       WHITLEY  82.0  70.0  \n",
       "10805         BREMEN  53.080000    8.720000       WHITLEY  85.0  68.0  \n",
       "...              ...        ...         ...           ...   ...   ...  \n",
       "113587         LIANG  -3.516667  128.300000           A20  92.0  68.0  \n",
       "113934       AMBESIA   0.516667  120.600000           B24  77.0  51.0  \n",
       "113935  PAGAN ISLAND  18.133333  145.783333           B24  73.0  58.0  \n",
       "113936        NAMLEA  -3.266667  127.100000           B25  79.0  52.0  \n",
       "113931       AMBESIA   0.516667  120.600000           B24  86.0  66.0  \n",
       "\n",
       "[5000 rows x 11 columns]"
      ],
      "text/html": "<div>\n<style scoped>\n    .dataframe tbody tr th:only-of-type {\n        vertical-align: middle;\n    }\n\n    .dataframe tbody tr th {\n        vertical-align: top;\n    }\n\n    .dataframe thead th {\n        text-align: right;\n    }\n</style>\n<table border=\"1\" class=\"dataframe\">\n  <thead>\n    <tr style=\"text-align: right;\">\n      <th></th>\n      <th>MSNDATE</th>\n      <th>THEATER</th>\n      <th>NAF</th>\n      <th>COUNTRY_FLYING_MISSION</th>\n      <th>TGT_COUNTRY</th>\n      <th>TGT_LOCATION</th>\n      <th>LATITUDE</th>\n      <th>LONGITUDE</th>\n      <th>AIRCRAFT_NAME</th>\n      <th>MAX</th>\n      <th>MIN</th>\n    </tr>\n    <tr>\n      <th>ID</th>\n      <th></th>\n      <th></th>\n      <th></th>\n      <th></th>\n      <th></th>\n      <th></th>\n      <th></th>\n      <th></th>\n      <th></th>\n      <th></th>\n      <th></th>\n    </tr>\n  </thead>\n  <tbody>\n    <tr>\n      <th>10706</th>\n      <td>1/1/41</td>\n      <td>ETO</td>\n      <td>RAF</td>\n      <td>GREAT BRITAIN</td>\n      <td>GERMANY</td>\n      <td>KIEL</td>\n      <td>54.330000</td>\n      <td>10.150000</td>\n      <td>HAMPDEN</td>\n      <td>88.0</td>\n      <td>78.0</td>\n    </tr>\n    <tr>\n      <th>10802</th>\n      <td>1/1/41</td>\n      <td>ETO</td>\n      <td>RAF</td>\n      <td>GREAT BRITAIN</td>\n      <td>GERMANY</td>\n      <td>BREMEN</td>\n      <td>53.080000</td>\n      <td>8.720000</td>\n      <td>WHITLEY</td>\n      <td>86.0</td>\n      <td>74.0</td>\n    </tr>\n    <tr>\n      <th>10803</th>\n      <td>1/1/41</td>\n      <td>ETO</td>\n      <td>RAF</td>\n      <td>GREAT BRITAIN</td>\n      <td>GERMANY</td>\n      <td>BREMEN</td>\n      <td>53.080000</td>\n      <td>8.720000</td>\n      <td>WHITLEY</td>\n      <td>85.0</td>\n      <td>72.0</td>\n    </tr>\n    <tr>\n      <th>10804</th>\n      <td>1/1/41</td>\n      <td>ETO</td>\n      <td>RAF</td>\n      <td>GREAT BRITAIN</td>\n      <td>GERMANY</td>\n      <td>BREMEN</td>\n      <td>53.080000</td>\n      <td>8.720000</td>\n      <td>WHITLEY</td>\n      <td>82.0</td>\n      <td>70.0</td>\n    </tr>\n    <tr>\n      <th>10805</th>\n      <td>1/1/41</td>\n      <td>ETO</td>\n      <td>RAF</td>\n      <td>GREAT BRITAIN</td>\n      <td>GERMANY</td>\n      <td>BREMEN</td>\n      <td>53.080000</td>\n      <td>8.720000</td>\n      <td>WHITLEY</td>\n      <td>85.0</td>\n      <td>68.0</td>\n    </tr>\n    <tr>\n      <th>...</th>\n      <td>...</td>\n      <td>...</td>\n      <td>...</td>\n      <td>...</td>\n      <td>...</td>\n      <td>...</td>\n      <td>...</td>\n      <td>...</td>\n      <td>...</td>\n      <td>...</td>\n      <td>...</td>\n    </tr>\n    <tr>\n      <th>113587</th>\n      <td>10/12/44</td>\n      <td>PTO</td>\n      <td>5 AF</td>\n      <td>USA</td>\n      <td>CELEBES ISLANDS</td>\n      <td>LIANG</td>\n      <td>-3.516667</td>\n      <td>128.300000</td>\n      <td>A20</td>\n      <td>92.0</td>\n      <td>68.0</td>\n    </tr>\n    <tr>\n      <th>113934</th>\n      <td>10/12/44</td>\n      <td>PTO</td>\n      <td>5 AF</td>\n      <td>USA</td>\n      <td>CELEBES ISLANDS</td>\n      <td>AMBESIA</td>\n      <td>0.516667</td>\n      <td>120.600000</td>\n      <td>B24</td>\n      <td>77.0</td>\n      <td>51.0</td>\n    </tr>\n    <tr>\n      <th>113935</th>\n      <td>10/12/44</td>\n      <td>PTO</td>\n      <td>7 AF</td>\n      <td>USA</td>\n      <td>MARIANAS ISLANDS</td>\n      <td>PAGAN ISLAND</td>\n      <td>18.133333</td>\n      <td>145.783333</td>\n      <td>B24</td>\n      <td>73.0</td>\n      <td>58.0</td>\n    </tr>\n    <tr>\n      <th>113936</th>\n      <td>10/12/44</td>\n      <td>PTO</td>\n      <td>13 AF</td>\n      <td>USA</td>\n      <td>CELEBES ISLANDS</td>\n      <td>NAMLEA</td>\n      <td>-3.266667</td>\n      <td>127.100000</td>\n      <td>B25</td>\n      <td>79.0</td>\n      <td>52.0</td>\n    </tr>\n    <tr>\n      <th>113931</th>\n      <td>10/12/44</td>\n      <td>PTO</td>\n      <td>5 AF</td>\n      <td>USA</td>\n      <td>CELEBES ISLANDS</td>\n      <td>AMBESIA</td>\n      <td>0.516667</td>\n      <td>120.600000</td>\n      <td>B24</td>\n      <td>86.0</td>\n      <td>66.0</td>\n    </tr>\n  </tbody>\n</table>\n<p>5000 rows × 11 columns</p>\n</div>"
     },
     "metadata": {},
     "execution_count": 7
    }
   ],
   "source": [
    "thor_df = thor_df.dropna(how='any').copy()\n",
    "thor_df = thor_df.rename_axis('ID').copy()\n",
    "thor_df = thor_df.head(5000)\n",
    "thor_df"
   ]
  },
  {
   "cell_type": "code",
   "execution_count": 9,
   "metadata": {},
   "outputs": [],
   "source": [
    "# inserting df into db table\n",
    "engine = create_engine('sqlite:///../wwii.db', echo=False)\n",
    "thor_df.to_sql('wwii_data', con=engine,if_exists='append')"
   ]
  },
  {
   "cell_type": "code",
   "execution_count": null,
   "metadata": {},
   "outputs": [],
   "source": []
  }
 ],
 "metadata": {
  "kernelspec": {
   "name": "python3",
   "display_name": "Python 3.7.6 64-bit ('base': conda)",
   "metadata": {
    "interpreter": {
     "hash": "4300df53d05516e6826655c31284cc493b25620aad780a31bd0a22c9129ef052"
    }
   }
  },
  "language_info": {
   "codemirror_mode": {
    "name": "ipython",
    "version": 3
   },
   "file_extension": ".py",
   "mimetype": "text/x-python",
   "name": "python",
   "nbconvert_exporter": "python",
   "pygments_lexer": "ipython3",
   "version": "3.7.6-final"
  }
 },
 "nbformat": 4,
 "nbformat_minor": 2
}