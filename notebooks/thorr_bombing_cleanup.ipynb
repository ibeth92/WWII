{
 "cells": [
  {
   "cell_type": "code",
   "execution_count": 1,
   "metadata": {},
   "outputs": [],
   "source": [
    "import pandas as pd\n",
    "import os\n",
    "from sqlalchemy import create_engine\n",
    "import time\n",
    "import datetime"
   ]
  },
  {
   "cell_type": "code",
   "execution_count": 2,
   "metadata": {},
   "outputs": [],
   "source": [
    "thor_data = 'Resources/THOR_WWII_DATA_CLEANED.csv'"
   ]
  },
  {
   "cell_type": "code",
   "execution_count": 4,
   "metadata": {},
   "outputs": [
    {
     "output_type": "execute_result",
     "data": {
      "text/plain": [
       "Index(['WWII_ID', 'MSNDATE', 'THEATER', 'NAF', 'COUNTRY_FLYING_MISSION',\n",
       "       'TGT_COUNTRY', 'TGT_LOCATION', 'LATITUDE', 'LONGITUDE', 'AIRCRAFT_NAME',\n",
       "       'MAX', 'MIN'],\n",
       "      dtype='object')"
      ]
     },
     "metadata": {},
     "execution_count": 4
    }
   ],
   "source": [
    "thor_df = pd.read_csv(thor_data, encoding='latin-1')\n",
    "thor_df.columns"
   ]
  },
  {
   "cell_type": "code",
   "execution_count": 5,
   "metadata": {},
   "outputs": [],
   "source": [
    "thor_df = thor_df[['MSNDATE', 'THEATER', 'NAF', 'COUNTRY_FLYING_MISSION',\n",
    "       'TGT_COUNTRY', 'TGT_LOCATION', 'LATITUDE', 'LONGITUDE', 'AIRCRAFT_NAME',\n",
    "       'MAX', 'MIN']].copy()\n",
    "thor_df\n",
    "thor_df = thor_df.sort_values(by='MSNDATE').copy()"
   ]
  },
  {
   "cell_type": "code",
   "execution_count": 6,
   "metadata": {},
   "outputs": [
    {
     "output_type": "execute_result",
     "data": {
      "text/plain": [
       "       MSNDATE THEATER   NAF COUNTRY_FLYING_MISSION       TGT_COUNTRY  \\\n",
       "ID                                                                      \n",
       "10706   1/1/41     ETO   RAF          GREAT BRITAIN           GERMANY   \n",
       "10802   1/1/41     ETO   RAF          GREAT BRITAIN           GERMANY   \n",
       "10803   1/1/41     ETO   RAF          GREAT BRITAIN           GERMANY   \n",
       "10804   1/1/41     ETO   RAF          GREAT BRITAIN           GERMANY   \n",
       "10805   1/1/41     ETO   RAF          GREAT BRITAIN           GERMANY   \n",
       "...        ...     ...   ...                    ...               ...   \n",
       "106290  9/9/44     PTO  7 AF                    USA  CAROLINE ISLANDS   \n",
       "106291  9/9/44     PTO  5 AF                    USA   CELEBES ISLANDS   \n",
       "106292  9/9/44     PTO  7 AF                    USA  CAROLINE ISLANDS   \n",
       "106293  9/9/44     PTO  5 AF                    USA   CELEBES ISLANDS   \n",
       "106342  9/9/44     ETO   RAF          GREAT BRITAIN           GERMANY   \n",
       "\n",
       "            TGT_LOCATION   LATITUDE   LONGITUDE AIRCRAFT_NAME   MAX   MIN  \n",
       "ID                                                                         \n",
       "10706               KIEL  54.330000   10.150000       HAMPDEN  88.0  78.0  \n",
       "10802             BREMEN  53.080000    8.720000       WHITLEY  86.0  74.0  \n",
       "10803             BREMEN  53.080000    8.720000       WHITLEY  85.0  72.0  \n",
       "10804             BREMEN  53.080000    8.720000       WHITLEY  82.0  70.0  \n",
       "10805             BREMEN  53.080000    8.720000       WHITLEY  85.0  68.0  \n",
       "...                  ...        ...         ...           ...   ...   ...  \n",
       "106290     PONAPE ISLAND   7.000000  158.416667           B25  98.0  84.0  \n",
       "106291          HAROEKOE  -3.600000  128.425082           P47  99.0  84.0  \n",
       "106292     PONAPE ISLAND   7.000000  158.416667           B25  91.0  79.0  \n",
       "106293             LIANG  -3.516667  128.300000           P47  85.0  78.0  \n",
       "106342  MUNCHEN GLADBACH  51.200000    6.420000     LANCASTER  79.0  56.0  \n",
       "\n",
       "[78704 rows x 11 columns]"
      ],
      "text/html": "<div>\n<style scoped>\n    .dataframe tbody tr th:only-of-type {\n        vertical-align: middle;\n    }\n\n    .dataframe tbody tr th {\n        vertical-align: top;\n    }\n\n    .dataframe thead th {\n        text-align: right;\n    }\n</style>\n<table border=\"1\" class=\"dataframe\">\n  <thead>\n    <tr style=\"text-align: right;\">\n      <th></th>\n      <th>MSNDATE</th>\n      <th>THEATER</th>\n      <th>NAF</th>\n      <th>COUNTRY_FLYING_MISSION</th>\n      <th>TGT_COUNTRY</th>\n      <th>TGT_LOCATION</th>\n      <th>LATITUDE</th>\n      <th>LONGITUDE</th>\n      <th>AIRCRAFT_NAME</th>\n      <th>MAX</th>\n      <th>MIN</th>\n    </tr>\n    <tr>\n      <th>ID</th>\n      <th></th>\n      <th></th>\n      <th></th>\n      <th></th>\n      <th></th>\n      <th></th>\n      <th></th>\n      <th></th>\n      <th></th>\n      <th></th>\n      <th></th>\n    </tr>\n  </thead>\n  <tbody>\n    <tr>\n      <th>10706</th>\n      <td>1/1/41</td>\n      <td>ETO</td>\n      <td>RAF</td>\n      <td>GREAT BRITAIN</td>\n      <td>GERMANY</td>\n      <td>KIEL</td>\n      <td>54.330000</td>\n      <td>10.150000</td>\n      <td>HAMPDEN</td>\n      <td>88.0</td>\n      <td>78.0</td>\n    </tr>\n    <tr>\n      <th>10802</th>\n      <td>1/1/41</td>\n      <td>ETO</td>\n      <td>RAF</td>\n      <td>GREAT BRITAIN</td>\n      <td>GERMANY</td>\n      <td>BREMEN</td>\n      <td>53.080000</td>\n      <td>8.720000</td>\n      <td>WHITLEY</td>\n      <td>86.0</td>\n      <td>74.0</td>\n    </tr>\n    <tr>\n      <th>10803</th>\n      <td>1/1/41</td>\n      <td>ETO</td>\n      <td>RAF</td>\n      <td>GREAT BRITAIN</td>\n      <td>GERMANY</td>\n      <td>BREMEN</td>\n      <td>53.080000</td>\n      <td>8.720000</td>\n      <td>WHITLEY</td>\n      <td>85.0</td>\n      <td>72.0</td>\n    </tr>\n    <tr>\n      <th>10804</th>\n      <td>1/1/41</td>\n      <td>ETO</td>\n      <td>RAF</td>\n      <td>GREAT BRITAIN</td>\n      <td>GERMANY</td>\n      <td>BREMEN</td>\n      <td>53.080000</td>\n      <td>8.720000</td>\n      <td>WHITLEY</td>\n      <td>82.0</td>\n      <td>70.0</td>\n    </tr>\n    <tr>\n      <th>10805</th>\n      <td>1/1/41</td>\n      <td>ETO</td>\n      <td>RAF</td>\n      <td>GREAT BRITAIN</td>\n      <td>GERMANY</td>\n      <td>BREMEN</td>\n      <td>53.080000</td>\n      <td>8.720000</td>\n      <td>WHITLEY</td>\n      <td>85.0</td>\n      <td>68.0</td>\n    </tr>\n    <tr>\n      <th>...</th>\n      <td>...</td>\n      <td>...</td>\n      <td>...</td>\n      <td>...</td>\n      <td>...</td>\n      <td>...</td>\n      <td>...</td>\n      <td>...</td>\n      <td>...</td>\n      <td>...</td>\n      <td>...</td>\n    </tr>\n    <tr>\n      <th>106290</th>\n      <td>9/9/44</td>\n      <td>PTO</td>\n      <td>7 AF</td>\n      <td>USA</td>\n      <td>CAROLINE ISLANDS</td>\n      <td>PONAPE ISLAND</td>\n      <td>7.000000</td>\n      <td>158.416667</td>\n      <td>B25</td>\n      <td>98.0</td>\n      <td>84.0</td>\n    </tr>\n    <tr>\n      <th>106291</th>\n      <td>9/9/44</td>\n      <td>PTO</td>\n      <td>5 AF</td>\n      <td>USA</td>\n      <td>CELEBES ISLANDS</td>\n      <td>HAROEKOE</td>\n      <td>-3.600000</td>\n      <td>128.425082</td>\n      <td>P47</td>\n      <td>99.0</td>\n      <td>84.0</td>\n    </tr>\n    <tr>\n      <th>106292</th>\n      <td>9/9/44</td>\n      <td>PTO</td>\n      <td>7 AF</td>\n      <td>USA</td>\n      <td>CAROLINE ISLANDS</td>\n      <td>PONAPE ISLAND</td>\n      <td>7.000000</td>\n      <td>158.416667</td>\n      <td>B25</td>\n      <td>91.0</td>\n      <td>79.0</td>\n    </tr>\n    <tr>\n      <th>106293</th>\n      <td>9/9/44</td>\n      <td>PTO</td>\n      <td>5 AF</td>\n      <td>USA</td>\n      <td>CELEBES ISLANDS</td>\n      <td>LIANG</td>\n      <td>-3.516667</td>\n      <td>128.300000</td>\n      <td>P47</td>\n      <td>85.0</td>\n      <td>78.0</td>\n    </tr>\n    <tr>\n      <th>106342</th>\n      <td>9/9/44</td>\n      <td>ETO</td>\n      <td>RAF</td>\n      <td>GREAT BRITAIN</td>\n      <td>GERMANY</td>\n      <td>MUNCHEN GLADBACH</td>\n      <td>51.200000</td>\n      <td>6.420000</td>\n      <td>LANCASTER</td>\n      <td>79.0</td>\n      <td>56.0</td>\n    </tr>\n  </tbody>\n</table>\n<p>78704 rows × 11 columns</p>\n</div>"
     },
     "metadata": {},
     "execution_count": 6
    }
   ],
   "source": [
    "thor_df = thor_df.dropna(how='any').copy()\n",
    "thor_df = thor_df.rename_axis('ID').copy()\n",
    "thor_df"
   ]
  },
  {
   "cell_type": "code",
   "execution_count": 7,
   "metadata": {},
   "outputs": [],
   "source": [
    "# inserting df into db table\n",
    "engine = create_engine('sqlite:///wwii.db', echo=False)\n",
    "thor_df.to_sql('wwii_data', con=engine,if_exists='append')"
   ]
  },
  {
   "cell_type": "code",
   "execution_count": null,
   "metadata": {},
   "outputs": [],
   "source": []
  }
 ],
 "metadata": {
  "kernelspec": {
   "name": "python3",
   "display_name": "Python 3.7.6 64-bit ('base': conda)",
   "metadata": {
    "interpreter": {
     "hash": "4300df53d05516e6826655c31284cc493b25620aad780a31bd0a22c9129ef052"
    }
   }
  },
  "language_info": {
   "codemirror_mode": {
    "name": "ipython",
    "version": 3
   },
   "file_extension": ".py",
   "mimetype": "text/x-python",
   "name": "python",
   "nbconvert_exporter": "python",
   "pygments_lexer": "ipython3",
   "version": "3.7.6-final"
  }
 },
 "nbformat": 4,
 "nbformat_minor": 2
}