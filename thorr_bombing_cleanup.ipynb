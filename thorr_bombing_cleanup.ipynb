{
 "metadata": {
  "language_info": {
   "codemirror_mode": {
    "name": "ipython",
    "version": 3
   },
   "file_extension": ".py",
   "mimetype": "text/x-python",
   "name": "python",
   "nbconvert_exporter": "python",
   "pygments_lexer": "ipython3",
   "version": "3.6.10-final"
  },
  "orig_nbformat": 2,
  "kernelspec": {
   "name": "Python 3.6.10 64-bit ('PythonData': conda)",
   "display_name": "Python 3.6.10 64-bit ('PythonData': conda)",
   "metadata": {
    "interpreter": {
     "hash": "ee93554a1d4dfa4cc21bc82a003795a94a01045231d02a82123e033ad6249e3c"
    }
   }
  }
 },
 "nbformat": 4,
 "nbformat_minor": 2,
 "cells": [
  {
   "cell_type": "code",
   "execution_count": 10,
   "metadata": {},
   "outputs": [],
   "source": [
    "import pandas as pd\n",
    "import os\n",
    "from sqlalchemy import create_engine\n",
    "import time\n",
    "import datetime"
   ]
  },
  {
   "cell_type": "code",
   "execution_count": 11,
   "metadata": {},
   "outputs": [],
   "source": [
    "thor_data = 'THOR_WWII_DATA_CLEAN.csv'"
   ]
  },
  {
   "cell_type": "code",
   "execution_count": 12,
   "metadata": {},
   "outputs": [],
   "source": [
    "thor_df = pd.read_csv(thor_data, encoding='latin-1')"
   ]
  },
  {
   "cell_type": "code",
   "execution_count": 15,
   "metadata": {},
   "outputs": [],
   "source": [
    "thor_df = thor_df[['MSNDATE', 'THEATER','NAF','COUNTRY_FLYING_MISSION','TGT_COUNTRY','TGT_LOCATION','LATITUDE','LONGITUDE']].copy()\n",
    "thor_df\n",
    "thor_df = thor_df.sort_values(by='MSNDATE').copy()"
   ]
  },
  {
   "cell_type": "code",
   "execution_count": 16,
   "metadata": {},
   "outputs": [
    {
     "output_type": "execute_result",
     "data": {
      "text/plain": [
       "      MSNDATE THEATER  NAF COUNTRY_FLYING_MISSION    TGT_COUNTRY  \\\n",
       "6799   1/1/41     ETO  RAF          GREAT BRITAIN        GERMANY   \n",
       "6809   1/1/41     ETO  RAF          GREAT BRITAIN        GERMANY   \n",
       "6810   1/1/41     ETO  RAF          GREAT BRITAIN        GERMANY   \n",
       "6811   1/1/41     ETO  RAF          GREAT BRITAIN        GERMANY   \n",
       "6812   1/1/41     ETO  RAF          GREAT BRITAIN        GERMANY   \n",
       "...       ...     ...  ...                    ...            ...   \n",
       "99267  9/9/44     ETO  RAF          GREAT BRITAIN        GERMANY   \n",
       "99250  9/9/44     ETO  RAF          GREAT BRITAIN  GREAT BRITAIN   \n",
       "99251  9/9/44     ETO  RAF          GREAT BRITAIN        GERMANY   \n",
       "99252  9/9/44     ETO  RAF          GREAT BRITAIN        GERMANY   \n",
       "99253  9/9/44     ETO  RAF          GREAT BRITAIN        GERMANY   \n",
       "\n",
       "           TGT_LOCATION  LATITUDE  LONGITUDE  \n",
       "6799             BREMEN     53.08       8.72  \n",
       "6809             BREMEN     53.08       8.72  \n",
       "6810             BREMEN     53.08       8.72  \n",
       "6811             BREMEN     53.08       8.72  \n",
       "6812             BREMEN     53.08       8.72  \n",
       "...                 ...       ...        ...  \n",
       "99267             EMDEN     53.38       7.22  \n",
       "99250  MUNCHEN GLADBACH     51.20       6.42  \n",
       "99251  MUNCHEN GLADBACH     51.20       6.42  \n",
       "99252  MUNCHEN GLADBACH     51.20       6.42  \n",
       "99253  MUNCHEN GLADBACH     51.20       6.42  \n",
       "\n",
       "[119708 rows x 8 columns]"
      ],
      "text/html": "<div>\n<style scoped>\n    .dataframe tbody tr th:only-of-type {\n        vertical-align: middle;\n    }\n\n    .dataframe tbody tr th {\n        vertical-align: top;\n    }\n\n    .dataframe thead th {\n        text-align: right;\n    }\n</style>\n<table border=\"1\" class=\"dataframe\">\n  <thead>\n    <tr style=\"text-align: right;\">\n      <th></th>\n      <th>MSNDATE</th>\n      <th>THEATER</th>\n      <th>NAF</th>\n      <th>COUNTRY_FLYING_MISSION</th>\n      <th>TGT_COUNTRY</th>\n      <th>TGT_LOCATION</th>\n      <th>LATITUDE</th>\n      <th>LONGITUDE</th>\n    </tr>\n  </thead>\n  <tbody>\n    <tr>\n      <th>6799</th>\n      <td>1/1/41</td>\n      <td>ETO</td>\n      <td>RAF</td>\n      <td>GREAT BRITAIN</td>\n      <td>GERMANY</td>\n      <td>BREMEN</td>\n      <td>53.08</td>\n      <td>8.72</td>\n    </tr>\n    <tr>\n      <th>6809</th>\n      <td>1/1/41</td>\n      <td>ETO</td>\n      <td>RAF</td>\n      <td>GREAT BRITAIN</td>\n      <td>GERMANY</td>\n      <td>BREMEN</td>\n      <td>53.08</td>\n      <td>8.72</td>\n    </tr>\n    <tr>\n      <th>6810</th>\n      <td>1/1/41</td>\n      <td>ETO</td>\n      <td>RAF</td>\n      <td>GREAT BRITAIN</td>\n      <td>GERMANY</td>\n      <td>BREMEN</td>\n      <td>53.08</td>\n      <td>8.72</td>\n    </tr>\n    <tr>\n      <th>6811</th>\n      <td>1/1/41</td>\n      <td>ETO</td>\n      <td>RAF</td>\n      <td>GREAT BRITAIN</td>\n      <td>GERMANY</td>\n      <td>BREMEN</td>\n      <td>53.08</td>\n      <td>8.72</td>\n    </tr>\n    <tr>\n      <th>6812</th>\n      <td>1/1/41</td>\n      <td>ETO</td>\n      <td>RAF</td>\n      <td>GREAT BRITAIN</td>\n      <td>GERMANY</td>\n      <td>BREMEN</td>\n      <td>53.08</td>\n      <td>8.72</td>\n    </tr>\n    <tr>\n      <th>...</th>\n      <td>...</td>\n      <td>...</td>\n      <td>...</td>\n      <td>...</td>\n      <td>...</td>\n      <td>...</td>\n      <td>...</td>\n      <td>...</td>\n    </tr>\n    <tr>\n      <th>99267</th>\n      <td>9/9/44</td>\n      <td>ETO</td>\n      <td>RAF</td>\n      <td>GREAT BRITAIN</td>\n      <td>GERMANY</td>\n      <td>EMDEN</td>\n      <td>53.38</td>\n      <td>7.22</td>\n    </tr>\n    <tr>\n      <th>99250</th>\n      <td>9/9/44</td>\n      <td>ETO</td>\n      <td>RAF</td>\n      <td>GREAT BRITAIN</td>\n      <td>GREAT BRITAIN</td>\n      <td>MUNCHEN GLADBACH</td>\n      <td>51.20</td>\n      <td>6.42</td>\n    </tr>\n    <tr>\n      <th>99251</th>\n      <td>9/9/44</td>\n      <td>ETO</td>\n      <td>RAF</td>\n      <td>GREAT BRITAIN</td>\n      <td>GERMANY</td>\n      <td>MUNCHEN GLADBACH</td>\n      <td>51.20</td>\n      <td>6.42</td>\n    </tr>\n    <tr>\n      <th>99252</th>\n      <td>9/9/44</td>\n      <td>ETO</td>\n      <td>RAF</td>\n      <td>GREAT BRITAIN</td>\n      <td>GERMANY</td>\n      <td>MUNCHEN GLADBACH</td>\n      <td>51.20</td>\n      <td>6.42</td>\n    </tr>\n    <tr>\n      <th>99253</th>\n      <td>9/9/44</td>\n      <td>ETO</td>\n      <td>RAF</td>\n      <td>GREAT BRITAIN</td>\n      <td>GERMANY</td>\n      <td>MUNCHEN GLADBACH</td>\n      <td>51.20</td>\n      <td>6.42</td>\n    </tr>\n  </tbody>\n</table>\n<p>119708 rows × 8 columns</p>\n</div>"
     },
     "metadata": {},
     "execution_count": 16
    }
   ],
   "source": [
    "thor_df = thor_df.dropna(how='any').copy()\n",
    "thor_df"
   ]
  },
  {
   "cell_type": "code",
   "execution_count": null,
   "metadata": {},
   "outputs": [],
   "source": [
    "engine = create_engine('sqlite://', echo=False)"
   ]
  }
 ]
}