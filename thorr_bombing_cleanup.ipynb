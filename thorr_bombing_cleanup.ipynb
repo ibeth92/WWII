{
 "cells": [
  {
   "cell_type": "code",
   "execution_count": 1,
   "metadata": {},
   "outputs": [],
   "source": [
    "import pandas as pd\n",
    "import os\n",
    "from sqlalchemy import create_engine\n",
    "import time\n",
    "import datetime"
   ]
  },
  {
   "cell_type": "code",
   "execution_count": 2,
   "metadata": {},
   "outputs": [],
   "source": [
    "thor_data = 'Resources/THOR_WWII_DATA_CLEAN.csv'"
   ]
  },
  {
   "cell_type": "code",
   "execution_count": 3,
   "metadata": {},
   "outputs": [
    {
     "output_type": "execute_result",
     "data": {
      "text/plain": [
       "            id      date theater   naf country_flying_mission tgt_country  \\\n",
       "0        45601    9/3/39     ETO   RAF          GREAT BRITAIN     GERMANY   \n",
       "1        45602    9/4/39     ETO   RAF          GREAT BRITAIN     GERMANY   \n",
       "2        45603    9/4/39     ETO   RAF          GREAT BRITAIN     GERMANY   \n",
       "3        45604    9/4/39     ETO   RAF          GREAT BRITAIN     GERMANY   \n",
       "4        45605    9/5/39     ETO   RAF          GREAT BRITAIN     GERMANY   \n",
       "...        ...       ...     ...   ...                    ...         ...   \n",
       "178276  138346  12/31/45     PTO  7 AF                    USA      BORNEO   \n",
       "178277  138347  12/31/45     PTO  7 AF                    USA      BORNEO   \n",
       "178278  138348  12/31/45     PTO  7 AF                    USA      BORNEO   \n",
       "178279  138369  12/31/45     PTO  7 AF                    USA      BORNEO   \n",
       "178280  138377  12/31/45     PTO  7 AF                    USA      BORNEO   \n",
       "\n",
       "                                       tgt_city   latitude   longitude  \n",
       "0                       \"HAMBURG, BREMEN, RUHR\"  53.563056    9.967222  \n",
       "1                                 WILHELMSHAVEN  53.500000    8.050000  \n",
       "2                                   BRUNSBUTTEL  53.895040    9.104836  \n",
       "3                                          RUHR  52.366667    9.716667  \n",
       "4       \"MAINZ, DARMSTADT, MANNHEIM, FRANKFURT\"  48.766667    9.150000  \n",
       "...                                         ...        ...         ...  \n",
       "178276                              BALIK PAPAN  -1.250000  116.833333  \n",
       "178277                              BALIK PAPAN  -1.250000  116.833333  \n",
       "178278                              BALIK PAPAN  -1.250000  116.833333  \n",
       "178279                              BALIK PAPAN  -1.250000  116.833333  \n",
       "178280                              BALIK PAPAN  -1.250000  116.833333  \n",
       "\n",
       "[178281 rows x 9 columns]"
      ],
      "text/html": "<div>\n<style scoped>\n    .dataframe tbody tr th:only-of-type {\n        vertical-align: middle;\n    }\n\n    .dataframe tbody tr th {\n        vertical-align: top;\n    }\n\n    .dataframe thead th {\n        text-align: right;\n    }\n</style>\n<table border=\"1\" class=\"dataframe\">\n  <thead>\n    <tr style=\"text-align: right;\">\n      <th></th>\n      <th>id</th>\n      <th>date</th>\n      <th>theater</th>\n      <th>naf</th>\n      <th>country_flying_mission</th>\n      <th>tgt_country</th>\n      <th>tgt_city</th>\n      <th>latitude</th>\n      <th>longitude</th>\n    </tr>\n  </thead>\n  <tbody>\n    <tr>\n      <th>0</th>\n      <td>45601</td>\n      <td>9/3/39</td>\n      <td>ETO</td>\n      <td>RAF</td>\n      <td>GREAT BRITAIN</td>\n      <td>GERMANY</td>\n      <td>\"HAMBURG, BREMEN, RUHR\"</td>\n      <td>53.563056</td>\n      <td>9.967222</td>\n    </tr>\n    <tr>\n      <th>1</th>\n      <td>45602</td>\n      <td>9/4/39</td>\n      <td>ETO</td>\n      <td>RAF</td>\n      <td>GREAT BRITAIN</td>\n      <td>GERMANY</td>\n      <td>WILHELMSHAVEN</td>\n      <td>53.500000</td>\n      <td>8.050000</td>\n    </tr>\n    <tr>\n      <th>2</th>\n      <td>45603</td>\n      <td>9/4/39</td>\n      <td>ETO</td>\n      <td>RAF</td>\n      <td>GREAT BRITAIN</td>\n      <td>GERMANY</td>\n      <td>BRUNSBUTTEL</td>\n      <td>53.895040</td>\n      <td>9.104836</td>\n    </tr>\n    <tr>\n      <th>3</th>\n      <td>45604</td>\n      <td>9/4/39</td>\n      <td>ETO</td>\n      <td>RAF</td>\n      <td>GREAT BRITAIN</td>\n      <td>GERMANY</td>\n      <td>RUHR</td>\n      <td>52.366667</td>\n      <td>9.716667</td>\n    </tr>\n    <tr>\n      <th>4</th>\n      <td>45605</td>\n      <td>9/5/39</td>\n      <td>ETO</td>\n      <td>RAF</td>\n      <td>GREAT BRITAIN</td>\n      <td>GERMANY</td>\n      <td>\"MAINZ, DARMSTADT, MANNHEIM, FRANKFURT\"</td>\n      <td>48.766667</td>\n      <td>9.150000</td>\n    </tr>\n    <tr>\n      <th>...</th>\n      <td>...</td>\n      <td>...</td>\n      <td>...</td>\n      <td>...</td>\n      <td>...</td>\n      <td>...</td>\n      <td>...</td>\n      <td>...</td>\n      <td>...</td>\n    </tr>\n    <tr>\n      <th>178276</th>\n      <td>138346</td>\n      <td>12/31/45</td>\n      <td>PTO</td>\n      <td>7 AF</td>\n      <td>USA</td>\n      <td>BORNEO</td>\n      <td>BALIK PAPAN</td>\n      <td>-1.250000</td>\n      <td>116.833333</td>\n    </tr>\n    <tr>\n      <th>178277</th>\n      <td>138347</td>\n      <td>12/31/45</td>\n      <td>PTO</td>\n      <td>7 AF</td>\n      <td>USA</td>\n      <td>BORNEO</td>\n      <td>BALIK PAPAN</td>\n      <td>-1.250000</td>\n      <td>116.833333</td>\n    </tr>\n    <tr>\n      <th>178278</th>\n      <td>138348</td>\n      <td>12/31/45</td>\n      <td>PTO</td>\n      <td>7 AF</td>\n      <td>USA</td>\n      <td>BORNEO</td>\n      <td>BALIK PAPAN</td>\n      <td>-1.250000</td>\n      <td>116.833333</td>\n    </tr>\n    <tr>\n      <th>178279</th>\n      <td>138369</td>\n      <td>12/31/45</td>\n      <td>PTO</td>\n      <td>7 AF</td>\n      <td>USA</td>\n      <td>BORNEO</td>\n      <td>BALIK PAPAN</td>\n      <td>-1.250000</td>\n      <td>116.833333</td>\n    </tr>\n    <tr>\n      <th>178280</th>\n      <td>138377</td>\n      <td>12/31/45</td>\n      <td>PTO</td>\n      <td>7 AF</td>\n      <td>USA</td>\n      <td>BORNEO</td>\n      <td>BALIK PAPAN</td>\n      <td>-1.250000</td>\n      <td>116.833333</td>\n    </tr>\n  </tbody>\n</table>\n<p>178281 rows × 9 columns</p>\n</div>"
     },
     "metadata": {},
     "execution_count": 3
    }
   ],
   "source": [
    "thor_df = pd.read_csv(thor_data, encoding='latin-1')\n",
    "thor_df"
   ]
  },
  {
   "cell_type": "code",
   "execution_count": 4,
   "metadata": {},
   "outputs": [],
   "source": [
    "thor_df = thor_df[['date', 'theater','naf','country_flying_mission','tgt_country','tgt_city','latitude','longitude']].copy()\n",
    "thor_df\n",
    "thor_df = thor_df.sort_values(by='date').copy()"
   ]
  },
  {
   "cell_type": "code",
   "execution_count": 5,
   "metadata": {},
   "outputs": [
    {
     "output_type": "execute_result",
     "data": {
      "text/plain": [
       "         date theater  naf country_flying_mission    tgt_country  \\\n",
       "id                                                                 \n",
       "6799   1/1/41     ETO  RAF          GREAT BRITAIN        GERMANY   \n",
       "6809   1/1/41     ETO  RAF          GREAT BRITAIN        GERMANY   \n",
       "6810   1/1/41     ETO  RAF          GREAT BRITAIN        GERMANY   \n",
       "6811   1/1/41     ETO  RAF          GREAT BRITAIN        GERMANY   \n",
       "6812   1/1/41     ETO  RAF          GREAT BRITAIN        GERMANY   \n",
       "...       ...     ...  ...                    ...            ...   \n",
       "99267  9/9/44     ETO  RAF          GREAT BRITAIN        GERMANY   \n",
       "99250  9/9/44     ETO  RAF          GREAT BRITAIN  GREAT BRITAIN   \n",
       "99251  9/9/44     ETO  RAF          GREAT BRITAIN        GERMANY   \n",
       "99252  9/9/44     ETO  RAF          GREAT BRITAIN        GERMANY   \n",
       "99253  9/9/44     ETO  RAF          GREAT BRITAIN        GERMANY   \n",
       "\n",
       "               tgt_city  latitude  longitude  \n",
       "id                                            \n",
       "6799             BREMEN     53.08       8.72  \n",
       "6809             BREMEN     53.08       8.72  \n",
       "6810             BREMEN     53.08       8.72  \n",
       "6811             BREMEN     53.08       8.72  \n",
       "6812             BREMEN     53.08       8.72  \n",
       "...                 ...       ...        ...  \n",
       "99267             EMDEN     53.38       7.22  \n",
       "99250  MUNCHEN GLADBACH     51.20       6.42  \n",
       "99251  MUNCHEN GLADBACH     51.20       6.42  \n",
       "99252  MUNCHEN GLADBACH     51.20       6.42  \n",
       "99253  MUNCHEN GLADBACH     51.20       6.42  \n",
       "\n",
       "[119708 rows x 8 columns]"
      ],
      "text/html": "<div>\n<style scoped>\n    .dataframe tbody tr th:only-of-type {\n        vertical-align: middle;\n    }\n\n    .dataframe tbody tr th {\n        vertical-align: top;\n    }\n\n    .dataframe thead th {\n        text-align: right;\n    }\n</style>\n<table border=\"1\" class=\"dataframe\">\n  <thead>\n    <tr style=\"text-align: right;\">\n      <th></th>\n      <th>date</th>\n      <th>theater</th>\n      <th>naf</th>\n      <th>country_flying_mission</th>\n      <th>tgt_country</th>\n      <th>tgt_city</th>\n      <th>latitude</th>\n      <th>longitude</th>\n    </tr>\n    <tr>\n      <th>id</th>\n      <th></th>\n      <th></th>\n      <th></th>\n      <th></th>\n      <th></th>\n      <th></th>\n      <th></th>\n      <th></th>\n    </tr>\n  </thead>\n  <tbody>\n    <tr>\n      <th>6799</th>\n      <td>1/1/41</td>\n      <td>ETO</td>\n      <td>RAF</td>\n      <td>GREAT BRITAIN</td>\n      <td>GERMANY</td>\n      <td>BREMEN</td>\n      <td>53.08</td>\n      <td>8.72</td>\n    </tr>\n    <tr>\n      <th>6809</th>\n      <td>1/1/41</td>\n      <td>ETO</td>\n      <td>RAF</td>\n      <td>GREAT BRITAIN</td>\n      <td>GERMANY</td>\n      <td>BREMEN</td>\n      <td>53.08</td>\n      <td>8.72</td>\n    </tr>\n    <tr>\n      <th>6810</th>\n      <td>1/1/41</td>\n      <td>ETO</td>\n      <td>RAF</td>\n      <td>GREAT BRITAIN</td>\n      <td>GERMANY</td>\n      <td>BREMEN</td>\n      <td>53.08</td>\n      <td>8.72</td>\n    </tr>\n    <tr>\n      <th>6811</th>\n      <td>1/1/41</td>\n      <td>ETO</td>\n      <td>RAF</td>\n      <td>GREAT BRITAIN</td>\n      <td>GERMANY</td>\n      <td>BREMEN</td>\n      <td>53.08</td>\n      <td>8.72</td>\n    </tr>\n    <tr>\n      <th>6812</th>\n      <td>1/1/41</td>\n      <td>ETO</td>\n      <td>RAF</td>\n      <td>GREAT BRITAIN</td>\n      <td>GERMANY</td>\n      <td>BREMEN</td>\n      <td>53.08</td>\n      <td>8.72</td>\n    </tr>\n    <tr>\n      <th>...</th>\n      <td>...</td>\n      <td>...</td>\n      <td>...</td>\n      <td>...</td>\n      <td>...</td>\n      <td>...</td>\n      <td>...</td>\n      <td>...</td>\n    </tr>\n    <tr>\n      <th>99267</th>\n      <td>9/9/44</td>\n      <td>ETO</td>\n      <td>RAF</td>\n      <td>GREAT BRITAIN</td>\n      <td>GERMANY</td>\n      <td>EMDEN</td>\n      <td>53.38</td>\n      <td>7.22</td>\n    </tr>\n    <tr>\n      <th>99250</th>\n      <td>9/9/44</td>\n      <td>ETO</td>\n      <td>RAF</td>\n      <td>GREAT BRITAIN</td>\n      <td>GREAT BRITAIN</td>\n      <td>MUNCHEN GLADBACH</td>\n      <td>51.20</td>\n      <td>6.42</td>\n    </tr>\n    <tr>\n      <th>99251</th>\n      <td>9/9/44</td>\n      <td>ETO</td>\n      <td>RAF</td>\n      <td>GREAT BRITAIN</td>\n      <td>GERMANY</td>\n      <td>MUNCHEN GLADBACH</td>\n      <td>51.20</td>\n      <td>6.42</td>\n    </tr>\n    <tr>\n      <th>99252</th>\n      <td>9/9/44</td>\n      <td>ETO</td>\n      <td>RAF</td>\n      <td>GREAT BRITAIN</td>\n      <td>GERMANY</td>\n      <td>MUNCHEN GLADBACH</td>\n      <td>51.20</td>\n      <td>6.42</td>\n    </tr>\n    <tr>\n      <th>99253</th>\n      <td>9/9/44</td>\n      <td>ETO</td>\n      <td>RAF</td>\n      <td>GREAT BRITAIN</td>\n      <td>GERMANY</td>\n      <td>MUNCHEN GLADBACH</td>\n      <td>51.20</td>\n      <td>6.42</td>\n    </tr>\n  </tbody>\n</table>\n<p>119708 rows × 8 columns</p>\n</div>"
     },
     "metadata": {},
     "execution_count": 5
    }
   ],
   "source": [
    "thor_df = thor_df.dropna(how='any').copy()\n",
    "thor_df = thor_df.rename_axis('id').copy()\n",
    "thor_df"
   ]
  },
  {
   "cell_type": "code",
   "execution_count": 6,
   "metadata": {},
   "outputs": [],
   "source": [
    "# inserting df into db table\n",
    "engine = create_engine('sqlite:///wwii.db', echo=False)\n",
    "thor_df.to_sql('bombings', con=engine,if_exists='append')"
   ]
  },
  {
   "cell_type": "code",
   "execution_count": null,
   "metadata": {},
   "outputs": [],
   "source": []
  }
 ],
 "metadata": {
  "kernelspec": {
   "name": "Python 3.7.6 64-bit ('base': conda)",
   "display_name": "Python 3.7.6 64-bit ('base': conda)",
   "metadata": {
    "interpreter": {
     "hash": "4300df53d05516e6826655c31284cc493b25620aad780a31bd0a22c9129ef052"
    }
   }
  },
  "language_info": {
   "codemirror_mode": {
    "name": "ipython",
    "version": 3
   },
   "file_extension": ".py",
   "mimetype": "text/x-python",
   "name": "python",
   "nbconvert_exporter": "python",
   "pygments_lexer": "ipython3",
   "version": "3.7.6-final"
  }
 },
 "nbformat": 4,
 "nbformat_minor": 2
}